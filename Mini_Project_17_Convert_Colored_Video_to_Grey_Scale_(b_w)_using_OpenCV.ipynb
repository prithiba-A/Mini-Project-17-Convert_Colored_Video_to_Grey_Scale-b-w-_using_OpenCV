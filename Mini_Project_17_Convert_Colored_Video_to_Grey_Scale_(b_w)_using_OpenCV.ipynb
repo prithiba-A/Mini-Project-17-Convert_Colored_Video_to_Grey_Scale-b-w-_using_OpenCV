{
  "nbformat": 4,
  "nbformat_minor": 0,
  "metadata": {
    "colab": {
      "provenance": [],
      "authorship_tag": "ABX9TyPA66IKVmHKGNIqIGNhr/X5",
      "include_colab_link": true
    },
    "kernelspec": {
      "name": "python3",
      "display_name": "Python 3"
    },
    "language_info": {
      "name": "python"
    }
  },
  "cells": [
    {
      "cell_type": "markdown",
      "metadata": {
        "id": "view-in-github",
        "colab_type": "text"
      },
      "source": [
        "<a href=\"https://colab.research.google.com/github/prithiba-A/Mini-Project-17-Convert_Colored_Video_to_Grey_Scale-b-w-_using_OpenCV/blob/main/Mini_Project_17_Convert_Colored_Video_to_Grey_Scale_(b_w)_using_OpenCV.ipynb\" target=\"_parent\"><img src=\"https://colab.research.google.com/assets/colab-badge.svg\" alt=\"Open In Colab\"/></a>"
      ]
    },
    {
      "cell_type": "code",
      "execution_count": 1,
      "metadata": {
        "id": "9yCfo-gEqTum"
      },
      "outputs": [],
      "source": [
        "import cv2"
      ]
    },
    {
      "cell_type": "code",
      "source": [
        "input_file = '/content/Colored_video.mp4'\n",
        "cap = cv2.VideoCapture(input_file)"
      ],
      "metadata": {
        "id": "D0xM1M3CyjHq"
      },
      "execution_count": 2,
      "outputs": []
    },
    {
      "cell_type": "code",
      "source": [
        "output_file = 'gray_scale_video.mp4'\n",
        "fps = cap.get(cv2.CAP_PROP_FPS)\n",
        "width = int(cap.get(cv2.CAP_PROP_FRAME_WIDTH))\n",
        "height = int(cap.get(cv2.CAP_PROP_FRAME_HEIGHT))"
      ],
      "metadata": {
        "id": "CTa7wMI1y4zH"
      },
      "execution_count": 3,
      "outputs": []
    },
    {
      "cell_type": "code",
      "source": [
        "fourcc = cv2.VideoWriter_fourcc(*'mp4v')  # Choose the codec based on the output file extension\n",
        "out = cv2.VideoWriter(output_file, fourcc, fps, (width, height), isColor=False)"
      ],
      "metadata": {
        "id": "ifkk49WDy-3D"
      },
      "execution_count": 4,
      "outputs": []
    },
    {
      "cell_type": "code",
      "source": [
        "cap.release()\n",
        "out.release()\n",
        "cv2.destroyAllWindows()"
      ],
      "metadata": {
        "id": "f3_X17mDzKXC"
      },
      "execution_count": 5,
      "outputs": []
    },
    {
      "cell_type": "code",
      "source": [
        "import cv2\n",
        "\n",
        "input_file = '/content/countdown_-_6713 (540p).mp4'\n",
        "output_file = '/content/output_video.mp4'\n",
        "\n",
        "# Open the input video file\n",
        "video = cv2.VideoCapture(input_file)\n",
        "\n",
        "# Get the video's width, height, and frames per second (fps)\n",
        "width = int(video.get(cv2.CAP_PROP_FRAME_WIDTH))\n",
        "height = int(video.get(cv2.CAP_PROP_FRAME_HEIGHT))\n",
        "fps = video.get(cv2.CAP_PROP_FPS)\n",
        "\n",
        "# Define the codec for the output video\n",
        "fourcc = cv2.VideoWriter_fourcc(*'mp4v')\n",
        "\n",
        "# Create a VideoWriter object to save the output video\n",
        "output = cv2.VideoWriter(output_file, fourcc, fps, (width, height), isColor=False)\n",
        "\n",
        "# Process each frame of the input video\n",
        "while video.isOpened():\n",
        "    # Read the current frame\n",
        "    ret, frame = video.read()\n",
        "\n",
        "    if ret:\n",
        "        # Convert the frame to grayscale\n",
        "        gray_frame = cv2.cvtColor(frame, cv2.COLOR_BGR2GRAY)\n",
        "\n",
        "        # Write the grayscale frame to the output video\n",
        "        output.write(gray_frame)\n",
        "\n",
        "        # Exit if the 'q' key is pressed\n",
        "        if cv2.waitKey(1) & 0xFF == ord('q'):\n",
        "            break\n",
        "    else:\n",
        "        break\n",
        "# Release the video capture and writer objects\n",
        "video.release()\n",
        "output.release()\n",
        "\n",
        "# Close all OpenCV windows\n",
        "cv2.destroyAllWindows()"
      ],
      "metadata": {
        "id": "jnL3dHiSzXfX"
      },
      "execution_count": 6,
      "outputs": []
    }
  ]
}